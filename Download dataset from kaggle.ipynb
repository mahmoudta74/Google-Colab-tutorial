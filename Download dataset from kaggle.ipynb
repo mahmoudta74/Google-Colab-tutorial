{
  "nbformat": 4,
  "nbformat_minor": 0,
  "metadata": {
    "colab": {
      "name": "Copy of deeplearning_week01.ipynb",
      "provenance": [],
      "collapsed_sections": [],
      "toc_visible": true,
      "authorship_tag": "ABX9TyOKCnNtRxD9OPlGPVb1n4ev",
      "include_colab_link": true
    },
    "kernelspec": {
      "name": "python3",
      "display_name": "Python 3"
    }
  },
  "cells": [
    {
      "cell_type": "markdown",
      "metadata": {
        "id": "view-in-github",
        "colab_type": "text"
      },
      "source": [
        "<a href=\"https://colab.research.google.com/github/mahmoudta74/Google-Colab-tutorial/blob/main/Download%20dataset%20from%20kaggle.ipynb\" target=\"_parent\"><img src=\"https://colab.research.google.com/assets/colab-badge.svg\" alt=\"Open In Colab\"/></a>"
      ]
    },
    {
      "cell_type": "markdown",
      "metadata": {
        "id": "EN9b0aGZYYkr"
      },
      "source": [
        "#  Download dataset (dogs vs cats) from kaggle to google Drive\r\n"
      ]
    },
    {
      "cell_type": "markdown",
      "metadata": {
        "id": "huz4KhfhY-yo"
      },
      "source": [
        "## step1 :\r\n",
        "####  Mount google Drive"
      ]
    },
    {
      "cell_type": "code",
      "metadata": {
        "colab": {
          "base_uri": "https://localhost:8080/"
        },
        "id": "dsfORMGfYaUo",
        "outputId": "a9f5af00-08ad-4e00-ee16-3b9264e15109"
      },
      "source": [
        "# mount Drive\r\n",
        "from google.colab import drive\r\n",
        "drive.mount(\"/content/drive\")"
      ],
      "execution_count": null,
      "outputs": [
        {
          "output_type": "stream",
          "text": [
            "Drive already mounted at /content/drive; to attempt to forcibly remount, call drive.mount(\"/content/drive\", force_remount=True).\n"
          ],
          "name": "stdout"
        }
      ]
    },
    {
      "cell_type": "markdown",
      "metadata": {
        "id": "1GNnCb7XZykp"
      },
      "source": [
        "## step2 :\r\n",
        "####  Update Kaggle version"
      ]
    },
    {
      "cell_type": "code",
      "metadata": {
        "colab": {
          "base_uri": "https://localhost:8080/"
        },
        "id": "eF-FuTgYPcT7",
        "outputId": "3458c30a-cfe5-41f3-f82e-ba3f37bbcd59"
      },
      "source": [
        "!pip uninstall kaggle\r\n",
        "!pip install -U pip \r\n",
        "!pip install --upgrade --force-reinstall --no-deps kaggle\r\n",
        "print('\\n\\n\\n')\r\n",
        "!kaggle -v"
      ],
      "execution_count": null,
      "outputs": [
        {
          "output_type": "stream",
          "text": [
            "Found existing installation: kaggle 1.5.10\n",
            "Uninstalling kaggle-1.5.10:\n",
            "  Would remove:\n",
            "    /usr/local/bin/kaggle\n",
            "    /usr/local/lib/python3.7/dist-packages/kaggle-1.5.10.dist-info/*\n",
            "    /usr/local/lib/python3.7/dist-packages/kaggle/*\n",
            "Proceed (y/n)? y\n",
            "  Successfully uninstalled kaggle-1.5.10\n",
            "Requirement already satisfied: pip in /usr/local/lib/python3.7/dist-packages (21.0.1)\n",
            "Collecting kaggle\n",
            "  Using cached kaggle-1.5.10-py3-none-any.whl\n",
            "Installing collected packages: kaggle\n",
            "Successfully installed kaggle-1.5.10\n",
            "\n",
            "\n",
            "\n",
            "\n",
            "Traceback (most recent call last):\n",
            "  File \"/usr/local/bin/kaggle\", line 5, in <module>\n",
            "    from kaggle.cli import main\n",
            "  File \"/usr/local/lib/python3.7/dist-packages/kaggle/__init__.py\", line 23, in <module>\n",
            "    api.authenticate()\n",
            "  File \"/usr/local/lib/python3.7/dist-packages/kaggle/api/kaggle_api_extended.py\", line 166, in authenticate\n",
            "    self.config_file, self.config_dir))\n",
            "OSError: Could not find kaggle.json. Make sure it's located in /root/.kaggle. Or use the environment method.\n"
          ],
          "name": "stdout"
        }
      ]
    },
    {
      "cell_type": "markdown",
      "metadata": {
        "id": "_TKp711OaACW"
      },
      "source": [
        "##step3 :\r\n",
        "####  First of all, you need two accounts which are Kaggle and Google. Go to Kaggle website and open ‘My Account’ scrolling down to API. Click on Create New API Token.\r\n",
        "\r\n",
        "[kaggle website](https://www.kaggle.com)\r\n",
        "\r\n",
        "![alt text here](https://miro.medium.com/max/2400/0*9eNd75fgFNLRoV7B.png \"Title: \")\r\n",
        "\r\n",
        "\r\n",
        "-\r\n",
        "#### Then, a  kaggle.json file will be download. open it with a text editor and find your USERNAME</font> and KEY\r\n",
        "\r\n",
        "-\r\n",
        "#### Finally, Change your current directory. your dataset will be downloaded in current dir."
      ]
    },
    {
      "cell_type": "code",
      "metadata": {
        "id": "PikFAdo9dskT"
      },
      "source": [
        "import os \r\n",
        "# change the current directory\r\n",
        "os.chdir(r\"drive/MyDrive/***\") # write directory"
      ],
      "execution_count": null,
      "outputs": []
    },
    {
      "cell_type": "markdown",
      "metadata": {
        "id": "tf-76_gKe59r"
      },
      "source": [
        "## step4 :\r\n",
        "####  Configuration environment"
      ]
    },
    {
      "cell_type": "code",
      "metadata": {
        "id": "DA1U2izIB-_B"
      },
      "source": [
        "import os\r\n",
        "\r\n",
        "os.environ['KAGGLE_USERNAME'] = \"***\" # username from the json file\r\n",
        "os.environ['KAGGLE_KEY'] = \"***\" # key from the json file"
      ],
      "execution_count": null,
      "outputs": []
    },
    {
      "cell_type": "markdown",
      "metadata": {
        "id": "fBQvOMsmfyrR"
      },
      "source": [
        "## step5 :\r\n",
        "####  be sure that accept the kaggle rules.\r\n",
        "\r\n",
        "![rule](https://drive.google.com/uc?id=1E8xLdIjT6r6j9QkE_rvq9w7lToYHvTw5)\r\n",
        "\r\n",
        "####  Use the kaggle API to download dataset.\r\n",
        "\r\n",
        "![download](https://drive.google.com/uc?id=1-S2tTjSXg1cOaHOGeUqsIQ6e6baPrvsN)"
      ]
    },
    {
      "cell_type": "code",
      "metadata": {
        "colab": {
          "base_uri": "https://localhost:8080/"
        },
        "id": "ESyf5PrfIJor",
        "outputId": "102963d9-de1c-4c5e-b7c5-d26d0a6869e0"
      },
      "source": [
        "#Download dataset\r\n",
        "!kaggle competitions download -c dogs-vs-cats"
      ],
      "execution_count": null,
      "outputs": [
        {
          "output_type": "stream",
          "text": [
            "Downloading dogs-vs-cats.zip to /content/drive/MyDrive/dataset/dog_vs_cat\n",
            " 98% 799M/812M [00:06<00:00, 145MB/s]\n",
            "100% 812M/812M [00:06<00:00, 138MB/s]\n"
          ],
          "name": "stdout"
        }
      ]
    },
    {
      "cell_type": "code",
      "metadata": {
        "id": "DWgd2r4VYBTK"
      },
      "source": [
        ""
      ],
      "execution_count": null,
      "outputs": []
    }
  ]
}